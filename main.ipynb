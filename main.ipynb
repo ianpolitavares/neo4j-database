{
 "cells": [
  {
   "cell_type": "code",
   "execution_count": null,
   "metadata": {},
   "outputs": [],
   "source": [
    "pip install neo4j"
   ]
  },
  {
   "cell_type": "code",
   "execution_count": null,
   "metadata": {},
   "outputs": [],
   "source": [
    "from neo4j import GraphDatabase\n",
    "\n",
    "uri = \"neo4j+s://\"\n",
    "driver = GraphDatabase.driver(uri, auth=(\"neo4j\", \"password\"))\n",
    "\n",
    "def print_greeting(tx, message):\n",
    "    result = tx.run(\"CREATE (a:Greeting) \"\n",
    "                     \"SET a.message = $message \"\n",
    "                     \"RETURN a.message + ', from node ' + id(a)\", message=message)\n",
    "    print(result.single()[0])\n",
    "\n",
    "with driver.session() as session:\n",
    "    session.write_transaction(print_greeting, \"hello, world\")\n",
    "driver.close()\n"
   ]
  },
  {
   "cell_type": "code",
   "execution_count": null,
   "metadata": {},
   "outputs": [],
   "source": [
    "def print_nodes(tx):\n",
    "    result = tx.run(\"MATCH (n:Greeting) RETURN n\")\n",
    "    for record in result:\n",
    "        print(record)\n",
    "\n",
    "with driver.session() as session:\n",
    "    session.read_transaction(print_nodes)\n",
    "\n",
    "driver.close()"
   ]
  },
  {
   "cell_type": "code",
   "execution_count": null,
   "metadata": {},
   "outputs": [],
   "source": [
    "def create_relation(tx):\n",
    "    tx.run(\"MATCH (g:Greeting {message: 'hello, world'}) \"\n",
    "           \"MERGE (o:OtherNode {name: 'Node 2'}) \"\n",
    "           \"MERGE (g)-[:LINKS_TO]->(o)\")\n",
    "\n",
    "with driver.session() as session:\n",
    "    session.execute_write(create_relation)\n",
    "\n",
    "driver.close()"
   ]
  },
  {
   "cell_type": "code",
   "execution_count": null,
   "metadata": {},
   "outputs": [],
   "source": []
  }
 ],
 "metadata": {
  "kernelspec": {
   "display_name": "Python 3",
   "language": "python",
   "name": "python3"
  },
  "language_info": {
   "codemirror_mode": {
    "name": "ipython",
    "version": 3
   },
   "file_extension": ".py",
   "mimetype": "text/x-python",
   "name": "python",
   "nbconvert_exporter": "python",
   "pygments_lexer": "ipython3",
   "version": "3.11.2"
  },
  "orig_nbformat": 4
 },
 "nbformat": 4,
 "nbformat_minor": 2
}
